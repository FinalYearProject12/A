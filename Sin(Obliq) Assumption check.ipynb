{
 "cells": [
  {
   "cell_type": "code",
   "execution_count": null,
   "metadata": {},
   "outputs": [],
   "source": [
    "import xarray as xr\n",
    "import numpy as np\n",
    "import matplotlib.pyplot as plt\n",
    "import dask \n",
    "\n",
    "m = xr.open_mfdataset('/export/anthropocene/array-01/sp16953/Isca_data/Mars/albedo_25.19/run00[10-40]*/atmos_daily.nc', \n",
    "                       decode_times=False, concat_dim='time',combine='nested')\n",
    "m0 = xr.open_mfdataset('/export/anthropocene/array-01/sp16953/Isca_data/Mars/albedo_0/run00[10-40]*/atmos_daily.nc', \n",
    "                       decode_times=False, concat_dim='time',combine='nested')\n",
    "m5 = xr.open_mfdataset('/export/anthropocene/array-01/sp16953/Isca_data/Mars/albedo_5/run00[10-40]*/atmos_daily.nc', \n",
    "                       decode_times=False, concat_dim='time',combine='nested')\n",
    "m15 = xr.open_mfdataset('/export/anthropocene/array-01/sp16953/Isca_data/Mars/albedo_15/run00[10-40]*/atmos_daily.nc', \n",
    "                       decode_times=False, concat_dim='time',combine='nested')\n",
    "m20 = xr.open_mfdataset('/export/anthropocene/array-01/sp16953/Isca_data/Mars/albedo_20/run00[10-40]*/atmos_daily.nc', \n",
    "                       decode_times=False, concat_dim='time',combine='nested')\n",
    "m30 = xr.open_mfdataset('/export/anthropocene/array-01/sp16953/Isca_data/Mars/albedo_30/run00[10-40]*/atmos_daily.nc', \n",
    "                       decode_times=False, concat_dim='time',combine='nested')\n",
    "m40 = xr.open_mfdataset('/export/anthropocene/array-01/sp16953/Isca_data/Mars/albedo_30/run00[10-40]*/atmos_daily.nc', \n",
    "                       decode_times=False, concat_dim='time',combine='nested')\n",
    "\n",
    "m50 = xr.open_mfdataset('/export/anthropocene/array-01/sp16953/Isca_data/Mars/albedo_50/run00[10-40]*/atmos_daily.nc', \n",
    "                       decode_times=False, concat_dim='time',combine='nested')\n",
    "m60 = xr.open_mfdataset('/export/anthropocene/array-01/sp16953/Isca_data/Mars/albedo_50/run00[10-40]*/atmos_daily.nc', \n",
    "                       decode_times=False, concat_dim='time',combine='nested')\n",
    "\n",
    "m70 = xr.open_mfdataset('/export/anthropocene/array-01/sp16953/Isca_data/Mars/albedo_70/run00[10-40]*/atmos_daily.nc', \n",
    "                       decode_times=False, concat_dim='time',combine='nested')\n",
    "m80 = xr.open_mfdataset('/export/anthropocene/array-01/sp16953/Isca_data/Mars/albedo_80/run00[10-40]*/atmos_daily.nc', \n",
    "                       decode_times=False, concat_dim='time',combine='nested')\n",
    "m90 = xr.open_mfdataset('/export/anthropocene/array-01/sp16953/Isca_data/Mars/albedo_90/run00[10-40]*/atmos_daily.nc', \n",
    "                       decode_times=False, concat_dim='time',combine='nested')\n",
    "    "
   ]
  },
  {
   "cell_type": "code",
   "execution_count": null,
   "metadata": {},
   "outputs": [],
   "source": [
    "set=[m0, m5, m15, m20, m30, m50, m70, m80, m90]\n",
    "# nameset=[['Mars','Obliq 20', 'Obliq 0'], set]"
   ]
  },
  {
   "cell_type": "code",
   "execution_count": null,
   "metadata": {},
   "outputs": [],
   "source": [
    "Values =[]\n",
    "for x in set:\n",
    "    x=x.t_surf.sel(method='nearest').mean(dim='lon')\n",
    "    data = x[x.time>x.time.values[1030]]\n",
    "    data = data[data.time.values < data.time.values[179]]\n",
    "    data=data.values[57:64]\n",
    "    data=data.mean()\n",
    "    Values.append(data)\n",
    "    print(data)\n",
    "    "
   ]
  },
  {
   "cell_type": "code",
   "execution_count": null,
   "metadata": {},
   "outputs": [],
   "source": [
    "Obliq = [0, 5, 15,20,30,50,70,80,90]\n",
    "\n",
    "sin = [np.sin(x*2/np.pi) for x in Obliq]\n",
    "                     \n",
    "                     \n",
    "                     \n",
    "plt.plot(sin, Values)\n",
    "plt.xlim(-15,15)\n",
    "plt.show()\n",
    "plt.plot(Obliq, Values)"
   ]
  },
  {
   "cell_type": "code",
   "execution_count": null,
   "metadata": {},
   "outputs": [],
   "source": []
  }
 ],
 "metadata": {
  "kernelspec": {
   "display_name": "Python 3",
   "language": "python",
   "name": "python3"
  },
  "language_info": {
   "codemirror_mode": {
    "name": "ipython",
    "version": 3
   },
   "file_extension": ".py",
   "mimetype": "text/x-python",
   "name": "python",
   "nbconvert_exporter": "python",
   "pygments_lexer": "ipython3",
   "version": "3.7.4"
  }
 },
 "nbformat": 4,
 "nbformat_minor": 2
}
